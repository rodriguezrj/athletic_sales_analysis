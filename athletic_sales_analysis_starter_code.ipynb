{
 "cells": [
  {
   "cell_type": "code",
   "execution_count": 32,
   "metadata": {},
   "outputs": [],
   "source": [
    "# Import Libraries and Dependencies\n",
    "import pandas as pd"
   ]
  },
  {
   "cell_type": "markdown",
   "metadata": {},
   "source": [
    "### 1. Combine and Clean the Data\n",
    "#### Import CSVs"
   ]
  },
  {
   "cell_type": "code",
   "execution_count": 33,
   "metadata": {},
   "outputs": [],
   "source": [
    "# Read the CSV files into DataFrames.\n",
    "df1 = pd.read_csv('Resources/athletic_sales_2020.csv')\n",
    "df2 = pd.read_csv('Resources/athletic_sales_2021.csv')\n",
    "\n"
   ]
  },
  {
   "cell_type": "code",
   "execution_count": 34,
   "metadata": {},
   "outputs": [
    {
     "name": "stdout",
     "output_type": "stream",
     "text": [
      "      retailer  retailer_id invoice_date     region         state  \\\n",
      "0  Foot Locker      1185732       1/1/20  Northeast      New York   \n",
      "1  Foot Locker      1185732       1/1/20  Northeast  Pennsylvania   \n",
      "2  Foot Locker      1185732       1/1/20  Northeast  Pennsylvania   \n",
      "3  Foot Locker      1185732       1/1/20  Northeast      New York   \n",
      "4  Foot Locker      1185732       1/1/20  Northeast  Pennsylvania   \n",
      "\n",
      "           city                product  price_per_unit  units_sold  \\\n",
      "0      New York  Men's Street Footwear              50        1200   \n",
      "1  Philadelphia        Women's Apparel              68          83   \n",
      "2  Philadelphia        Women's Apparel              75         275   \n",
      "3      New York  Men's Street Footwear              34         384   \n",
      "4  Philadelphia        Women's Apparel              53          83   \n",
      "\n",
      "   total_sales  operating_profit sales_method  \n",
      "0       600000         300000.00     In-store  \n",
      "1         5644           2426.92       Online  \n",
      "2       206250          61875.00       Outlet  \n",
      "3        13056           6789.12       Outlet  \n",
      "4         4399           1407.68       Outlet  \n"
     ]
    }
   ],
   "source": [
    "# Display the 2020 sales DataFrame\n",
    "print(df1.head())\n",
    "\n",
    "\n",
    "\n",
    "\n",
    "\n",
    "\n"
   ]
  },
  {
   "cell_type": "code",
   "execution_count": 35,
   "metadata": {},
   "outputs": [
    {
     "name": "stdout",
     "output_type": "stream",
     "text": [
      "    retailer  retailer_id invoice_date   region       state           city  \\\n",
      "0  West Gear      1128299       1/1/21     West  California  San Francisco   \n",
      "1  West Gear      1128299       1/1/21     West  California  San Francisco   \n",
      "2     Kohl's      1189833       1/1/21  Midwest     Montana       Billings   \n",
      "3     Kohl's      1189833       1/1/21  Midwest     Montana       Billings   \n",
      "4  West Gear      1128299       1/1/21     West  California  San Francisco   \n",
      "\n",
      "                   product  price_per_unit  units_sold  total_sales  \\\n",
      "0  Men's Athletic Footwear              65         750       487500   \n",
      "1  Men's Athletic Footwear              51         233        11883   \n",
      "2            Men's Apparel              50         275       137500   \n",
      "3            Men's Apparel              47          77         3619   \n",
      "4  Men's Athletic Footwear              64         225        14400   \n",
      "\n",
      "   operating_profit sales_method  \n",
      "0         121875.00       Outlet  \n",
      "1           3208.41       Outlet  \n",
      "2          82500.00       Outlet  \n",
      "3           2714.25       Online  \n",
      "4           5184.00       Online  \n"
     ]
    }
   ],
   "source": [
    "# Display the 2021 sales DataFrame\n",
    "print(df2.head())\n",
    "\n",
    "\n"
   ]
  },
  {
   "cell_type": "markdown",
   "metadata": {},
   "source": [
    "#### Check the data types of each DataFrame"
   ]
  },
  {
   "cell_type": "code",
   "execution_count": 36,
   "metadata": {},
   "outputs": [
    {
     "name": "stdout",
     "output_type": "stream",
     "text": [
      "retailer             object\n",
      "retailer_id           int64\n",
      "invoice_date         object\n",
      "region               object\n",
      "state                object\n",
      "city                 object\n",
      "product              object\n",
      "price_per_unit        int64\n",
      "units_sold            int64\n",
      "total_sales           int64\n",
      "operating_profit    float64\n",
      "sales_method         object\n",
      "dtype: object\n"
     ]
    }
   ],
   "source": [
    "# Check the 2020 sales data types.\n",
    "print(df1.dtypes)\n"
   ]
  },
  {
   "cell_type": "code",
   "execution_count": 37,
   "metadata": {},
   "outputs": [
    {
     "name": "stdout",
     "output_type": "stream",
     "text": [
      "retailer             object\n",
      "retailer_id           int64\n",
      "invoice_date         object\n",
      "region               object\n",
      "state                object\n",
      "city                 object\n",
      "product              object\n",
      "price_per_unit        int64\n",
      "units_sold            int64\n",
      "total_sales           int64\n",
      "operating_profit    float64\n",
      "sales_method         object\n",
      "dtype: object\n"
     ]
    }
   ],
   "source": [
    "# Check the 2021 sales data types.\n",
    "print(df2.dtypes)\n"
   ]
  },
  {
   "cell_type": "markdown",
   "metadata": {},
   "source": [
    "#### Combine the sales data by rows."
   ]
  },
  {
   "cell_type": "code",
   "execution_count": 38,
   "metadata": {},
   "outputs": [
    {
     "name": "stdout",
     "output_type": "stream",
     "text": [
      "         retailer  retailer_id invoice_date     region         state  \\\n",
      "0     Foot Locker      1185732       1/1/20  Northeast      New York   \n",
      "1     Foot Locker      1185732       1/1/20  Northeast  Pennsylvania   \n",
      "2     Foot Locker      1185732       1/1/20  Northeast  Pennsylvania   \n",
      "3     Foot Locker      1185732       1/1/20  Northeast      New York   \n",
      "4     Foot Locker      1185732       1/1/20  Northeast  Pennsylvania   \n",
      "...           ...          ...          ...        ...           ...   \n",
      "9638  Foot Locker      1185732     12/31/21  Northeast  Pennsylvania   \n",
      "9639  Foot Locker      1185732     12/31/21  Northeast  Pennsylvania   \n",
      "9640       Amazon      1185732     12/31/21  Northeast         Maine   \n",
      "9641       Amazon      1185732     12/31/21  Northeast         Maine   \n",
      "9642  Foot Locker      1185732     12/31/21  Northeast  Pennsylvania   \n",
      "\n",
      "              city                product  price_per_unit  units_sold  \\\n",
      "0         New York  Men's Street Footwear              50        1200   \n",
      "1     Philadelphia        Women's Apparel              68          83   \n",
      "2     Philadelphia        Women's Apparel              75         275   \n",
      "3         New York  Men's Street Footwear              34         384   \n",
      "4     Philadelphia        Women's Apparel              53          83   \n",
      "...            ...                    ...             ...         ...   \n",
      "9638  Philadelphia          Men's Apparel              63          47   \n",
      "9639  Philadelphia          Men's Apparel              46          56   \n",
      "9640      Portland          Men's Apparel              52          36   \n",
      "9641      Portland          Men's Apparel              55         125   \n",
      "9642  Philadelphia          Men's Apparel              70         175   \n",
      "\n",
      "      total_sales  operating_profit sales_method  \n",
      "0          600000         300000.00     In-store  \n",
      "1            5644           2426.92       Online  \n",
      "2          206250          61875.00       Outlet  \n",
      "3           13056           6789.12       Outlet  \n",
      "4            4399           1407.68       Outlet  \n",
      "...           ...               ...          ...  \n",
      "9638         2961           1362.06       Online  \n",
      "9639         2576           1004.64       Outlet  \n",
      "9640         1872            692.64       Online  \n",
      "9641        68750          17187.50       Outlet  \n",
      "9642       122500          42875.00       Outlet  \n",
      "\n",
      "[9643 rows x 12 columns]\n"
     ]
    }
   ],
   "source": [
    "# Combine the 2020 and 2021 sales DataFrames on the rows and reset the index.\n",
    "\n",
    "combined_df = pd.concat([df1, df2], ignore_index=True)\n",
    "\n",
    "# Print\n",
    "print(combined_df)\n"
   ]
  },
  {
   "cell_type": "code",
   "execution_count": 39,
   "metadata": {},
   "outputs": [
    {
     "name": "stdout",
     "output_type": "stream",
     "text": [
      "retailer            False\n",
      "retailer_id         False\n",
      "invoice_date        False\n",
      "region              False\n",
      "state               False\n",
      "city                False\n",
      "product             False\n",
      "price_per_unit      False\n",
      "units_sold          False\n",
      "total_sales         False\n",
      "operating_profit    False\n",
      "sales_method        False\n",
      "dtype: bool\n"
     ]
    }
   ],
   "source": [
    "# Check if any values are null.\n",
    "print(combined_df.isnull().any())"
   ]
  },
  {
   "cell_type": "code",
   "execution_count": 40,
   "metadata": {},
   "outputs": [
    {
     "name": "stdout",
     "output_type": "stream",
     "text": [
      "retailer             object\n",
      "retailer_id           int64\n",
      "invoice_date         object\n",
      "region               object\n",
      "state                object\n",
      "city                 object\n",
      "product              object\n",
      "price_per_unit        int64\n",
      "units_sold            int64\n",
      "total_sales           int64\n",
      "operating_profit    float64\n",
      "sales_method         object\n",
      "dtype: object\n"
     ]
    }
   ],
   "source": [
    "# Check the data type of each column\n",
    "print(combined_df.dtypes)"
   ]
  },
  {
   "cell_type": "code",
   "execution_count": 41,
   "metadata": {},
   "outputs": [
    {
     "name": "stdout",
     "output_type": "stream",
     "text": [
      "         retailer  retailer_id invoice_date     region         state  \\\n",
      "0     Foot Locker      1185732   2020-01-01  Northeast      New York   \n",
      "1     Foot Locker      1185732   2020-01-01  Northeast  Pennsylvania   \n",
      "2     Foot Locker      1185732   2020-01-01  Northeast  Pennsylvania   \n",
      "3     Foot Locker      1185732   2020-01-01  Northeast      New York   \n",
      "4     Foot Locker      1185732   2020-01-01  Northeast  Pennsylvania   \n",
      "...           ...          ...          ...        ...           ...   \n",
      "9638  Foot Locker      1185732   2021-12-31  Northeast  Pennsylvania   \n",
      "9639  Foot Locker      1185732   2021-12-31  Northeast  Pennsylvania   \n",
      "9640       Amazon      1185732   2021-12-31  Northeast         Maine   \n",
      "9641       Amazon      1185732   2021-12-31  Northeast         Maine   \n",
      "9642  Foot Locker      1185732   2021-12-31  Northeast  Pennsylvania   \n",
      "\n",
      "              city                product  price_per_unit  units_sold  \\\n",
      "0         New York  Men's Street Footwear              50        1200   \n",
      "1     Philadelphia        Women's Apparel              68          83   \n",
      "2     Philadelphia        Women's Apparel              75         275   \n",
      "3         New York  Men's Street Footwear              34         384   \n",
      "4     Philadelphia        Women's Apparel              53          83   \n",
      "...            ...                    ...             ...         ...   \n",
      "9638  Philadelphia          Men's Apparel              63          47   \n",
      "9639  Philadelphia          Men's Apparel              46          56   \n",
      "9640      Portland          Men's Apparel              52          36   \n",
      "9641      Portland          Men's Apparel              55         125   \n",
      "9642  Philadelphia          Men's Apparel              70         175   \n",
      "\n",
      "      total_sales  operating_profit sales_method  \n",
      "0          600000         300000.00     In-store  \n",
      "1            5644           2426.92       Online  \n",
      "2          206250          61875.00       Outlet  \n",
      "3           13056           6789.12       Outlet  \n",
      "4            4399           1407.68       Outlet  \n",
      "...           ...               ...          ...  \n",
      "9638         2961           1362.06       Online  \n",
      "9639         2576           1004.64       Outlet  \n",
      "9640         1872            692.64       Online  \n",
      "9641        68750          17187.50       Outlet  \n",
      "9642       122500          42875.00       Outlet  \n",
      "\n",
      "[9643 rows x 12 columns]\n"
     ]
    },
    {
     "name": "stderr",
     "output_type": "stream",
     "text": [
      "C:\\Users\\RobertRodrigues\\AppData\\Local\\Temp\\ipykernel_20388\\3037061390.py:2: UserWarning: Could not infer format, so each element will be parsed individually, falling back to `dateutil`. To ensure parsing is consistent and as-expected, please specify a format.\n",
      "  combined_df['invoice_date'] = pd.to_datetime(combined_df['invoice_date'])\n"
     ]
    }
   ],
   "source": [
    "# Convert the \"invoice_date\" to a datetime datatype\n",
    "combined_df['invoice_date'] = pd.to_datetime(combined_df['invoice_date'])\n",
    "\n",
    "# Check the data types after conversion\n",
    "print(combined_df)"
   ]
  },
  {
   "cell_type": "code",
   "execution_count": 42,
   "metadata": {},
   "outputs": [
    {
     "name": "stdout",
     "output_type": "stream",
     "text": [
      "retailer                    object\n",
      "retailer_id                  int64\n",
      "invoice_date        datetime64[ns]\n",
      "region                      object\n",
      "state                       object\n",
      "city                        object\n",
      "product                     object\n",
      "price_per_unit               int64\n",
      "units_sold                   int64\n",
      "total_sales                  int64\n",
      "operating_profit           float64\n",
      "sales_method                object\n",
      "dtype: object\n"
     ]
    }
   ],
   "source": [
    "# Confirm that the \"invoice_date\" data type has been changed.\n",
    "print(combined_df.dtypes)"
   ]
  },
  {
   "cell_type": "markdown",
   "metadata": {},
   "source": [
    "### 2. Determine which Region Sold the Most Products"
   ]
  },
  {
   "cell_type": "markdown",
   "metadata": {},
   "source": [
    "#### Using `groupby`"
   ]
  },
  {
   "cell_type": "code",
   "execution_count": 43,
   "metadata": {},
   "outputs": [
    {
     "name": "stdout",
     "output_type": "stream",
     "text": [
      "                               Total_Products_Sold\n",
      "region  state    city                             \n",
      "Midwest Illinois Chicago                     25407\n",
      "        Indiana  Indianapolis                26332\n",
      "        Iowa     Des Moines                  23446\n",
      "        Kansas   Wichita                     29463\n",
      "        Michigan Detroit                     50095\n"
     ]
    }
   ],
   "source": [
    "# Show the number products sold for region, state, and city.\n",
    "# Rename the sum to \"Total_Products_Sold\".\n",
    "\n",
    "product_sold_counts = combined_df.groupby(['region', 'state', 'city']).agg({'units_sold': 'sum'})\n",
    "product_sold_counts = product_sold_counts.rename(columns={'units_sold': 'Total_Products_Sold'})\n",
    "\n",
    "# Show the top 5 results\n",
    "print(product_sold_counts.head())\n",
    "                            "
   ]
  },
  {
   "cell_type": "markdown",
   "metadata": {},
   "source": [
    "#### Using `pivot_table`"
   ]
  },
  {
   "cell_type": "code",
   "execution_count": 44,
   "metadata": {},
   "outputs": [
    {
     "name": "stdout",
     "output_type": "stream",
     "text": [
      "                               Total_Products_Sold\n",
      "region  state    city                             \n",
      "Midwest Illinois Chicago                     25407\n",
      "        Indiana  Indianapolis                26332\n",
      "        Iowa     Des Moines                  23446\n",
      "        Kansas   Wichita                     29463\n",
      "        Michigan Detroit                     50095\n"
     ]
    }
   ],
   "source": [
    "# Create a pivot table to show the number of products sold for region, state, and city\n",
    "pivot_table = combined_df.pivot_table(index=['region', 'state', 'city'], values='units_sold', aggfunc='sum')\n",
    "\n",
    "# Rename the \"units_sold\" column to \"Total_Products_Sold\"\n",
    "pivot_table = pivot_table.rename(columns={'units_sold': 'Total_Products_Sold'})\n",
    "\n",
    "# Show the top 5 results\n",
    "print(pivot_table.head())\n"
   ]
  },
  {
   "cell_type": "markdown",
   "metadata": {},
   "source": [
    "### 3. Determine which Region had the Most Sales"
   ]
  },
  {
   "cell_type": "markdown",
   "metadata": {},
   "source": [
    "#### Using `groupby`"
   ]
  },
  {
   "cell_type": "code",
   "execution_count": 45,
   "metadata": {},
   "outputs": [
    {
     "name": "stdout",
     "output_type": "stream",
     "text": [
      "                                        Total Sales\n",
      "region    state          city                      \n",
      "Northeast New York       New York          39801235\n",
      "West      California     San Francisco     33973228\n",
      "Southeast Florida        Miami             31600863\n",
      "          South Carolina Charleston        29285637\n",
      "          Florida        Orlando           27682851\n"
     ]
    }
   ],
   "source": [
    "# Show the total sales for the products sold for each region, state, and city.\n",
    "total_sales_by_location = combined_df.groupby(['region', 'state', 'city']).agg({'total_sales': 'sum'})\n",
    "\n",
    "# Rename the \"total_sales\" column to \"Total Sales\"\n",
    "total_sales_by_location = total_sales_by_location.rename(columns={'total_sales': 'Total Sales'})\n",
    "total_sales_by_location_sorted = total_sales_by_location.sort_values(by='Total Sales', ascending=False)\n",
    "\n",
    "# Show the top 5 results\n",
    "print(total_sales_by_location_sorted.head())\n"
   ]
  },
  {
   "cell_type": "markdown",
   "metadata": {},
   "source": [
    "#### Using `pivot_table`"
   ]
  },
  {
   "cell_type": "code",
   "execution_count": 46,
   "metadata": {},
   "outputs": [
    {
     "name": "stdout",
     "output_type": "stream",
     "text": [
      "                                        Total Sales\n",
      "region    state          city                      \n",
      "Northeast New York       New York          39801235\n",
      "West      California     San Francisco     33973228\n",
      "Southeast Florida        Miami             31600863\n",
      "          South Carolina Charleston        29285637\n",
      "          Florida        Orlando           27682851\n"
     ]
    }
   ],
   "source": [
    "# Show the total sales for the products sold for each region, state, and city.\n",
    "pivot_table = combined_df.pivot_table(index=['region', 'state', 'city'], values='total_sales', aggfunc='sum')\n",
    "\n",
    "# Optionally, rename the \"total_sales\" column to \"Total Sales\"\n",
    "pivot_table = pivot_table.rename(columns={'total_sales': 'Total Sales'})\n",
    "pivot_table_sorted = pivot_table.sort_values(by='Total Sales', ascending=False)\n",
    "\n",
    "# Show the top 5 results\n",
    "print(pivot_table_sorted.head())\n",
    "\n"
   ]
  },
  {
   "cell_type": "markdown",
   "metadata": {
    "jp-MarkdownHeadingCollapsed": true,
    "tags": []
   },
   "source": [
    "### 4. Determine which Retailer had the Most Sales"
   ]
  },
  {
   "cell_type": "markdown",
   "metadata": {},
   "source": [
    "#### Using `groupby`"
   ]
  },
  {
   "cell_type": "code",
   "execution_count": 47,
   "metadata": {},
   "outputs": [
    {
     "name": "stdout",
     "output_type": "stream",
     "text": [
      "                                             Total Sales\n",
      "retailer region    state         city                   \n",
      "Amazon   Midwest   Ohio          Columbus       16835873\n",
      "         Northeast Maine         Portland        8611395\n",
      "                   Massachusetts Boston          4193590\n",
      "                   New Hampshire Manchester     10077142\n",
      "                   Vermont       Burlington     13380463\n"
     ]
    }
   ],
   "source": [
    "# Show the total sales for the products sold for each retailer, region, state, and city.\n",
    "total_sales_by_location = combined_df.groupby(['retailer', 'region', 'state', 'city']).agg({'total_sales': 'sum'})\n",
    "\n",
    "# Rename the \"total_sales\" column to \"Total Sales\"\n",
    "total_sales_by_location = total_sales_by_location.rename(columns={'total_sales': 'Total Sales'})\n",
    "\n",
    "# Show the top 5 results\n",
    "print(total_sales_by_location.head())\n",
    "\n"
   ]
  },
  {
   "cell_type": "markdown",
   "metadata": {},
   "source": [
    "#### Using `pivot_table`"
   ]
  },
  {
   "cell_type": "code",
   "execution_count": 48,
   "metadata": {},
   "outputs": [
    {
     "name": "stdout",
     "output_type": "stream",
     "text": [
      "                                             Total Sales\n",
      "retailer region    state         city                   \n",
      "Amazon   Midwest   Ohio          Columbus       16835873\n",
      "         Northeast Maine         Portland        8611395\n",
      "                   Massachusetts Boston          4193590\n",
      "                   New Hampshire Manchester     10077142\n",
      "                   Vermont       Burlington     13380463\n"
     ]
    }
   ],
   "source": [
    "# Show the total sales for the products sold for each retailer, region, state, and city.\n",
    "pivot_table = combined_df.pivot_table(index=['retailer', 'region', 'state', 'city'], values='total_sales', aggfunc='sum')\n",
    "\n",
    "# Optional: Rename the \"total_sales\" column to \"Total Sales\"\n",
    "pivot_table = pivot_table.rename(columns={'total_sales': 'Total Sales'})\n",
    "\n",
    "# Show the top 5 results\n",
    "print(pivot_table.head())\n",
    "\n"
   ]
  },
  {
   "cell_type": "markdown",
   "metadata": {},
   "source": [
    "### 5. Determine which Retailer Sold the Most Women's Athletic Footwear"
   ]
  },
  {
   "cell_type": "code",
   "execution_count": 49,
   "metadata": {},
   "outputs": [
    {
     "name": "stdout",
     "output_type": "stream",
     "text": [
      "       retailer  retailer_id invoice_date     region         state  \\\n",
      "1   Foot Locker      1185732   2020-01-01  Northeast  Pennsylvania   \n",
      "2   Foot Locker      1185732   2020-01-01  Northeast  Pennsylvania   \n",
      "4   Foot Locker      1185732   2020-01-01  Northeast  Pennsylvania   \n",
      "31  Foot Locker      1185732   2020-01-06  Northeast      New York   \n",
      "32  Foot Locker      1185732   2020-01-06  Northeast      New York   \n",
      "\n",
      "            city          product  price_per_unit  units_sold  total_sales  \\\n",
      "1   Philadelphia  Women's Apparel              68          83         5644   \n",
      "2   Philadelphia  Women's Apparel              75         275       206250   \n",
      "4   Philadelphia  Women's Apparel              53          83         4399   \n",
      "31      New York  Women's Apparel              46         260        11960   \n",
      "32      New York  Women's Apparel              50        1000       500000   \n",
      "\n",
      "    operating_profit sales_method  \n",
      "1            2426.92       Online  \n",
      "2           61875.00       Outlet  \n",
      "4            1407.68       Outlet  \n",
      "31           4425.20       Online  \n",
      "32         125000.00     In-store  \n"
     ]
    }
   ],
   "source": [
    "# Filter the sales data to get the women's athletic footwear sales data.\n",
    "women_athletic_footwear_sales = combined_df[combined_df['product'].str.contains(\"Women's Apparel\")]\n",
    "# Print\n",
    "print(women_athletic_footwear_sales.head())"
   ]
  },
  {
   "cell_type": "markdown",
   "metadata": {},
   "source": [
    "#### Using `groupby`"
   ]
  },
  {
   "cell_type": "code",
   "execution_count": 50,
   "metadata": {},
   "outputs": [
    {
     "name": "stdout",
     "output_type": "stream",
     "text": [
      "                                                       Womens_Footwear_Units_Sold\n",
      "retailer      region    state          city                                      \n",
      "West Gear     West      California     San Francisco                        14480\n",
      "Sports Direct South     Texas          Dallas                               13056\n",
      "Kohl's        West      California     Los Angeles                          12968\n",
      "Walmart       South     Texas          Houston                              12797\n",
      "Sports Direct South     Tennessee      Knoxville                            12345\n",
      "                        Alabama        Birmingham                           11828\n",
      "Foot Locker   Northeast New York       New York                             11312\n",
      "              Southeast South Carolina Charleston                           10574\n",
      "Sports Direct Southeast North Carolina Charlotte                             9403\n",
      "West Gear     West      Utah           Salt Lake City                        8848\n"
     ]
    }
   ],
   "source": [
    "# Show the total number of women's athletic footwear sold for each retailer, region, state, and city.\n",
    "women_athletic_footwear_sales = combined_df[combined_df['product'] == \"Women's Apparel\"]\n",
    "women_footwear_sold_counts = women_athletic_footwear_sales.groupby(['retailer', 'region', 'state', 'city']).agg({'units_sold': 'sum'})\n",
    "women_footwear_sold_counts = women_footwear_sold_counts.rename(columns={'units_sold': 'Womens_Footwear_Units_Sold'})\n",
    "\n",
    "# Sort\n",
    "women_footwear_sold_counts_sorted = women_footwear_sold_counts.sort_values(by='Womens_Footwear_Units_Sold', ascending=False)\n",
    "\n",
    "# Show the top 10\n",
    "print(women_footwear_sold_counts_sorted.head(10))\n",
    "\n"
   ]
  },
  {
   "cell_type": "markdown",
   "metadata": {},
   "source": [
    "#### Using `pivot_table`"
   ]
  },
  {
   "cell_type": "code",
   "execution_count": 51,
   "metadata": {},
   "outputs": [
    {
     "name": "stdout",
     "output_type": "stream",
     "text": [
      "                                                       Womens_Footwear_Units_Sold\n",
      "retailer      region    state          city                                      \n",
      "West Gear     West      California     San Francisco                        14480\n",
      "Sports Direct South     Texas          Dallas                               13056\n",
      "Kohl's        West      California     Los Angeles                          12968\n",
      "Walmart       South     Texas          Houston                              12797\n",
      "Sports Direct South     Tennessee      Knoxville                            12345\n",
      "                        Alabama        Birmingham                           11828\n",
      "Foot Locker   Northeast New York       New York                             11312\n",
      "              Southeast South Carolina Charleston                           10574\n",
      "Sports Direct Southeast North Carolina Charlotte                             9403\n",
      "West Gear     West      Utah           Salt Lake City                        8848\n"
     ]
    }
   ],
   "source": [
    "# Show the total number of women's athletic footwear sold for each retailer, region, state, and city.\n",
    "# Filter the sales data to get women's athletic footwear sales data\n",
    "women_athletic_footwear_sales = combined_df[combined_df['product'] == \"Women's Apparel\"]\n",
    "pivot_table = women_athletic_footwear_sales.pivot_table(index=['retailer', 'region', 'state', 'city'], values='units_sold', aggfunc='sum')\n",
    "pivot_table = pivot_table.rename(columns={'units_sold': 'Womens_Footwear_Units_Sold'})\n",
    "\n",
    "# Sort the pivot table by \"Womens_Footwear_Units_Sold\" in descending order\n",
    "pivot_table_sorted = pivot_table.sort_values(by='Womens_Footwear_Units_Sold', ascending=False)\n",
    "\n",
    "# Show the top 10\n",
    "print(pivot_table_sorted.head(10))\n"
   ]
  },
  {
   "cell_type": "markdown",
   "metadata": {},
   "source": [
    "### 5. Determine the Day with the Most Women's Athletic Footwear Sales"
   ]
  },
  {
   "cell_type": "code",
   "execution_count": 52,
   "metadata": {},
   "outputs": [
    {
     "name": "stdout",
     "output_type": "stream",
     "text": [
      "              total_sales\n",
      "invoice_date             \n",
      "2020-01-01         845141\n",
      "2020-01-02         689410\n",
      "2020-01-03         632573\n",
      "2020-01-04         615080\n",
      "2020-01-05         707829\n",
      "2020-01-06         655750\n",
      "2020-01-07         877176\n",
      "2020-01-08         668084\n",
      "2020-01-09         201829\n",
      "2020-01-10         200469\n"
     ]
    }
   ],
   "source": [
    "# Create a pivot table with the 'invoice_date' column is the index, and the \"total_sales\" as the values.\n",
    "pivot_table = combined_df.pivot_table(index='invoice_date', values='total_sales', aggfunc='sum')\n",
    "\n",
    "# Show the table\n",
    "print(pivot_table.head(10))"
   ]
  },
  {
   "cell_type": "code",
   "execution_count": 53,
   "metadata": {},
   "outputs": [
    {
     "name": "stdout",
     "output_type": "stream",
     "text": [
      "              total_sales\n",
      "invoice_date             \n",
      "2021-12-31         198659\n",
      "2021-12-30         167903\n",
      "2021-12-29         211109\n",
      "2021-12-28         301010\n",
      "2021-12-27         602353\n",
      "2021-12-26         396004\n",
      "2021-12-25        2467644\n",
      "2021-12-24         190885\n",
      "2021-12-23        5873665\n",
      "2021-12-22        1791736\n"
     ]
    }
   ],
   "source": [
    "# Resample the pivot table into daily bins, and get the total sales for each day.\n",
    "daily_sales = pivot_table.resample('D').sum()\n",
    "\n",
    "# Sort the resampled pivot table in ascending order on \"Total Sales\".\n",
    "daily_sales_sorted = daily_sales.sort_index(ascending=False)\n",
    "\n",
    "#Print\n",
    "print(daily_sales_sorted.head(10))"
   ]
  },
  {
   "cell_type": "markdown",
   "metadata": {},
   "source": [
    "### 6.  Determine the Week with the Most Women's Athletic Footwear Sales"
   ]
  },
  {
   "cell_type": "code",
   "execution_count": 54,
   "metadata": {},
   "outputs": [
    {
     "name": "stdout",
     "output_type": "stream",
     "text": [
      "              total_sales\n",
      "invoice_date             \n",
      "2022-01-02        1481034\n",
      "2021-12-26       14467751\n",
      "2021-12-19       24698535\n",
      "2021-12-12       23250286\n",
      "2021-12-05       14148357\n",
      "2021-11-28        9112671\n",
      "2021-11-21       18260315\n",
      "2021-11-14       18852206\n",
      "2021-11-07       12779315\n",
      "2021-10-31        2595085\n"
     ]
    }
   ],
   "source": [
    "# Resample the pivot table into weekly bins, and get the total sales for each week.\n",
    "weekly_sales = pivot_table.resample('W').sum()\n",
    "\n",
    "# Sort the resampled pivot table in ascending order on \"Total Sales\".\n",
    "weekly_sales_sorted = weekly_sales.sort_index(ascending=False)\n",
    "\n",
    "#Print\n",
    "print(weekly_sales_sorted.head(10))\n"
   ]
  },
  {
   "cell_type": "code",
   "execution_count": null,
   "metadata": {},
   "outputs": [],
   "source": []
  }
 ],
 "metadata": {
  "kernelspec": {
   "display_name": "Python 3 (ipykernel)",
   "language": "python",
   "name": "python3"
  },
  "language_info": {
   "codemirror_mode": {
    "name": "ipython",
    "version": 3
   },
   "file_extension": ".py",
   "mimetype": "text/x-python",
   "name": "python",
   "nbconvert_exporter": "python",
   "pygments_lexer": "ipython3",
   "version": "3.10.13"
  }
 },
 "nbformat": 4,
 "nbformat_minor": 4
}
